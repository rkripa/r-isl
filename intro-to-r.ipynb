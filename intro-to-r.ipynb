{
 "cells": [
  {
   "cell_type": "markdown",
   "metadata": {},
   "source": [
    "## Learning R\n",
    "-  From ISL Trevor etal"
   ]
  },
  {
   "cell_type": "markdown",
   "metadata": {},
   "source": [
    "### Creating a vector"
   ]
  },
  {
   "cell_type": "code",
   "execution_count": 1,
   "metadata": {},
   "outputs": [
    {
     "data": {
      "text/html": [
       "<ol class=list-inline>\n",
       "\t<li>2</li>\n",
       "\t<li>7</li>\n",
       "\t<li>5</li>\n",
       "</ol>\n"
      ],
      "text/latex": [
       "\\begin{enumerate*}\n",
       "\\item 2\n",
       "\\item 7\n",
       "\\item 5\n",
       "\\end{enumerate*}\n"
      ],
      "text/markdown": [
       "1. 2\n",
       "2. 7\n",
       "3. 5\n",
       "\n",
       "\n"
      ],
      "text/plain": [
       "[1] 2 7 5"
      ]
     },
     "metadata": {},
     "output_type": "display_data"
    }
   ],
   "source": [
    "x=c(2,7,5)\n",
    "x"
   ]
  },
  {
   "cell_type": "markdown",
   "metadata": {},
   "source": [
    "### Creating a sequence"
   ]
  },
  {
   "cell_type": "code",
   "execution_count": 2,
   "metadata": {},
   "outputs": [
    {
     "data": {
      "text/html": [
       "<ol class=list-inline>\n",
       "\t<li>4</li>\n",
       "\t<li>7</li>\n",
       "\t<li>10</li>\n",
       "</ol>\n"
      ],
      "text/latex": [
       "\\begin{enumerate*}\n",
       "\\item 4\n",
       "\\item 7\n",
       "\\item 10\n",
       "\\end{enumerate*}\n"
      ],
      "text/markdown": [
       "1. 4\n",
       "2. 7\n",
       "3. 10\n",
       "\n",
       "\n"
      ],
      "text/plain": [
       "[1]  4  7 10"
      ]
     },
     "metadata": {},
     "output_type": "display_data"
    }
   ],
   "source": [
    "y=seq(from=4,length=3,by=3)\n",
    "y"
   ]
  },
  {
   "cell_type": "markdown",
   "metadata": {},
   "source": [
    "### Help on functions and objects using ?"
   ]
  },
  {
   "cell_type": "code",
   "execution_count": 3,
   "metadata": {
    "collapsed": true
   },
   "outputs": [],
   "source": [
    "?seq"
   ]
  },
  {
   "cell_type": "markdown",
   "metadata": {},
   "source": [
    "### Vector operations + / ^ (to the power)"
   ]
  },
  {
   "cell_type": "code",
   "execution_count": 4,
   "metadata": {},
   "outputs": [
    {
     "data": {
      "text/html": [
       "<ol class=list-inline>\n",
       "\t<li>6</li>\n",
       "\t<li>14</li>\n",
       "\t<li>15</li>\n",
       "</ol>\n"
      ],
      "text/latex": [
       "\\begin{enumerate*}\n",
       "\\item 6\n",
       "\\item 14\n",
       "\\item 15\n",
       "\\end{enumerate*}\n"
      ],
      "text/markdown": [
       "1. 6\n",
       "2. 14\n",
       "3. 15\n",
       "\n",
       "\n"
      ],
      "text/plain": [
       "[1]  6 14 15"
      ]
     },
     "metadata": {},
     "output_type": "display_data"
    }
   ],
   "source": [
    "x+y"
   ]
  },
  {
   "cell_type": "code",
   "execution_count": 5,
   "metadata": {},
   "outputs": [
    {
     "data": {
      "text/html": [
       "<ol class=list-inline>\n",
       "\t<li>0.5</li>\n",
       "\t<li>1</li>\n",
       "\t<li>0.5</li>\n",
       "</ol>\n"
      ],
      "text/latex": [
       "\\begin{enumerate*}\n",
       "\\item 0.5\n",
       "\\item 1\n",
       "\\item 0.5\n",
       "\\end{enumerate*}\n"
      ],
      "text/markdown": [
       "1. 0.5\n",
       "2. 1\n",
       "3. 0.5\n",
       "\n",
       "\n"
      ],
      "text/plain": [
       "[1] 0.5 1.0 0.5"
      ]
     },
     "metadata": {},
     "output_type": "display_data"
    }
   ],
   "source": [
    "x/y"
   ]
  },
  {
   "cell_type": "code",
   "execution_count": 6,
   "metadata": {},
   "outputs": [
    {
     "data": {
      "text/html": [
       "<ol class=list-inline>\n",
       "\t<li>16</li>\n",
       "\t<li>823543</li>\n",
       "\t<li>9765625</li>\n",
       "</ol>\n"
      ],
      "text/latex": [
       "\\begin{enumerate*}\n",
       "\\item 16\n",
       "\\item 823543\n",
       "\\item 9765625\n",
       "\\end{enumerate*}\n"
      ],
      "text/markdown": [
       "1. 16\n",
       "2. 823543\n",
       "3. 9765625\n",
       "\n",
       "\n"
      ],
      "text/plain": [
       "[1]      16  823543 9765625"
      ]
     },
     "metadata": {},
     "output_type": "display_data"
    }
   ],
   "source": [
    "x^y"
   ]
  },
  {
   "cell_type": "markdown",
   "metadata": {},
   "source": [
    "### Accessing a vector"
   ]
  },
  {
   "cell_type": "code",
   "execution_count": 7,
   "metadata": {},
   "outputs": [
    {
     "data": {
      "text/html": [
       "7"
      ],
      "text/latex": [
       "7"
      ],
      "text/markdown": [
       "7"
      ],
      "text/plain": [
       "[1] 7"
      ]
     },
     "metadata": {},
     "output_type": "display_data"
    }
   ],
   "source": [
    "x[2]"
   ]
  },
  {
   "cell_type": "code",
   "execution_count": 8,
   "metadata": {},
   "outputs": [
    {
     "data": {
      "text/html": [
       "<ol class=list-inline>\n",
       "\t<li>7</li>\n",
       "\t<li>5</li>\n",
       "</ol>\n"
      ],
      "text/latex": [
       "\\begin{enumerate*}\n",
       "\\item 7\n",
       "\\item 5\n",
       "\\end{enumerate*}\n"
      ],
      "text/markdown": [
       "1. 7\n",
       "2. 5\n",
       "\n",
       "\n"
      ],
      "text/plain": [
       "[1] 7 5"
      ]
     },
     "metadata": {},
     "output_type": "display_data"
    }
   ],
   "source": [
    "x[2:3]"
   ]
  },
  {
   "cell_type": "markdown",
   "metadata": {},
   "source": [
    "### Remove subscript"
   ]
  },
  {
   "cell_type": "code",
   "execution_count": 9,
   "metadata": {},
   "outputs": [
    {
     "data": {
      "text/html": [
       "<ol class=list-inline>\n",
       "\t<li>2</li>\n",
       "\t<li>7</li>\n",
       "\t<li>5</li>\n",
       "</ol>\n"
      ],
      "text/latex": [
       "\\begin{enumerate*}\n",
       "\\item 2\n",
       "\\item 7\n",
       "\\item 5\n",
       "\\end{enumerate*}\n"
      ],
      "text/markdown": [
       "1. 2\n",
       "2. 7\n",
       "3. 5\n",
       "\n",
       "\n"
      ],
      "text/plain": [
       "[1] 2 7 5"
      ]
     },
     "metadata": {},
     "output_type": "display_data"
    }
   ],
   "source": [
    "x"
   ]
  },
  {
   "cell_type": "code",
   "execution_count": 10,
   "metadata": {},
   "outputs": [
    {
     "data": {
      "text/html": [
       "<ol class=list-inline>\n",
       "\t<li>2</li>\n",
       "\t<li>5</li>\n",
       "</ol>\n"
      ],
      "text/latex": [
       "\\begin{enumerate*}\n",
       "\\item 2\n",
       "\\item 5\n",
       "\\end{enumerate*}\n"
      ],
      "text/markdown": [
       "1. 2\n",
       "2. 5\n",
       "\n",
       "\n"
      ],
      "text/plain": [
       "[1] 2 5"
      ]
     },
     "metadata": {},
     "output_type": "display_data"
    }
   ],
   "source": [
    "x[-2]"
   ]
  },
  {
   "cell_type": "markdown",
   "metadata": {},
   "source": [
    "### Remove more than 1 index"
   ]
  },
  {
   "cell_type": "code",
   "execution_count": 11,
   "metadata": {},
   "outputs": [
    {
     "data": {
      "text/html": [
       "5"
      ],
      "text/latex": [
       "5"
      ],
      "text/markdown": [
       "5"
      ],
      "text/plain": [
       "[1] 5"
      ]
     },
     "metadata": {},
     "output_type": "display_data"
    }
   ],
   "source": [
    "x[-c(1,2)]"
   ]
  },
  {
   "cell_type": "markdown",
   "metadata": {},
   "source": [
    "### No scalers in R, everything is a vector\n"
   ]
  },
  {
   "cell_type": "code",
   "execution_count": 12,
   "metadata": {},
   "outputs": [
    {
     "data": {
      "text/html": [
       "<ol class=list-inline>\n",
       "\t<li>1</li>\n",
       "\t<li>2</li>\n",
       "\t<li>3</li>\n",
       "\t<li>4</li>\n",
       "\t<li>5</li>\n",
       "\t<li>6</li>\n",
       "\t<li>7</li>\n",
       "\t<li>8</li>\n",
       "\t<li>9</li>\n",
       "\t<li>10</li>\n",
       "\t<li>11</li>\n",
       "\t<li>12</li>\n",
       "</ol>\n"
      ],
      "text/latex": [
       "\\begin{enumerate*}\n",
       "\\item 1\n",
       "\\item 2\n",
       "\\item 3\n",
       "\\item 4\n",
       "\\item 5\n",
       "\\item 6\n",
       "\\item 7\n",
       "\\item 8\n",
       "\\item 9\n",
       "\\item 10\n",
       "\\item 11\n",
       "\\item 12\n",
       "\\end{enumerate*}\n"
      ],
      "text/markdown": [
       "1. 1\n",
       "2. 2\n",
       "3. 3\n",
       "4. 4\n",
       "5. 5\n",
       "6. 6\n",
       "7. 7\n",
       "8. 8\n",
       "9. 9\n",
       "10. 10\n",
       "11. 11\n",
       "12. 12\n",
       "\n",
       "\n"
      ],
      "text/plain": [
       " [1]  1  2  3  4  5  6  7  8  9 10 11 12"
      ]
     },
     "metadata": {},
     "output_type": "display_data"
    }
   ],
   "source": [
    "seq(1,12)"
   ]
  },
  {
   "cell_type": "markdown",
   "metadata": {},
   "source": [
    "### Create a 4x3 matrix using numbers 1 .. 12"
   ]
  },
  {
   "cell_type": "code",
   "execution_count": 13,
   "metadata": {},
   "outputs": [
    {
     "data": {
      "text/html": [
       "<table>\n",
       "<tbody>\n",
       "\t<tr><td>1 </td><td>5 </td><td> 9</td></tr>\n",
       "\t<tr><td>2 </td><td>6 </td><td>10</td></tr>\n",
       "\t<tr><td>3 </td><td>7 </td><td>11</td></tr>\n",
       "\t<tr><td>4 </td><td>8 </td><td>12</td></tr>\n",
       "</tbody>\n",
       "</table>\n"
      ],
      "text/latex": [
       "\\begin{tabular}{lll}\n",
       "\t 1  & 5  &  9\\\\\n",
       "\t 2  & 6  & 10\\\\\n",
       "\t 3  & 7  & 11\\\\\n",
       "\t 4  & 8  & 12\\\\\n",
       "\\end{tabular}\n"
      ],
      "text/markdown": [
       "\n",
       "| 1  | 5  |  9 | \n",
       "| 2  | 6  | 10 | \n",
       "| 3  | 7  | 11 | \n",
       "| 4  | 8  | 12 | \n",
       "\n",
       "\n"
      ],
      "text/plain": [
       "     [,1] [,2] [,3]\n",
       "[1,] 1    5     9  \n",
       "[2,] 2    6    10  \n",
       "[3,] 3    7    11  \n",
       "[4,] 4    8    12  "
      ]
     },
     "metadata": {},
     "output_type": "display_data"
    }
   ],
   "source": [
    "z = matrix(seq(1,12),4,3)\n",
    "z"
   ]
  },
  {
   "cell_type": "markdown",
   "metadata": {},
   "source": [
    "### See the 3,4 row and 2,3 column"
   ]
  },
  {
   "cell_type": "code",
   "execution_count": 14,
   "metadata": {},
   "outputs": [
    {
     "data": {
      "text/html": [
       "<table>\n",
       "<tbody>\n",
       "\t<tr><td>7 </td><td>11</td></tr>\n",
       "\t<tr><td>8 </td><td>12</td></tr>\n",
       "</tbody>\n",
       "</table>\n"
      ],
      "text/latex": [
       "\\begin{tabular}{ll}\n",
       "\t 7  & 11\\\\\n",
       "\t 8  & 12\\\\\n",
       "\\end{tabular}\n"
      ],
      "text/markdown": [
       "\n",
       "| 7  | 11 | \n",
       "| 8  | 12 | \n",
       "\n",
       "\n"
      ],
      "text/plain": [
       "     [,1] [,2]\n",
       "[1,] 7    11  \n",
       "[2,] 8    12  "
      ]
     },
     "metadata": {},
     "output_type": "display_data"
    }
   ],
   "source": [
    "z[3:4, 2:3]"
   ]
  },
  {
   "cell_type": "markdown",
   "metadata": {},
   "source": [
    "### Want only the 2,3 columns"
   ]
  },
  {
   "cell_type": "code",
   "execution_count": 15,
   "metadata": {},
   "outputs": [
    {
     "data": {
      "text/html": [
       "<table>\n",
       "<tbody>\n",
       "\t<tr><td>5 </td><td> 9</td></tr>\n",
       "\t<tr><td>6 </td><td>10</td></tr>\n",
       "\t<tr><td>7 </td><td>11</td></tr>\n",
       "\t<tr><td>8 </td><td>12</td></tr>\n",
       "</tbody>\n",
       "</table>\n"
      ],
      "text/latex": [
       "\\begin{tabular}{ll}\n",
       "\t 5  &  9\\\\\n",
       "\t 6  & 10\\\\\n",
       "\t 7  & 11\\\\\n",
       "\t 8  & 12\\\\\n",
       "\\end{tabular}\n"
      ],
      "text/markdown": [
       "\n",
       "| 5  |  9 | \n",
       "| 6  | 10 | \n",
       "| 7  | 11 | \n",
       "| 8  | 12 | \n",
       "\n",
       "\n"
      ],
      "text/plain": [
       "     [,1] [,2]\n",
       "[1,] 5     9  \n",
       "[2,] 6    10  \n",
       "[3,] 7    11  \n",
       "[4,] 8    12  "
      ]
     },
     "metadata": {},
     "output_type": "display_data"
    }
   ],
   "source": [
    "z[,2:3]"
   ]
  },
  {
   "cell_type": "markdown",
   "metadata": {},
   "source": [
    "### 1st column\n",
    "-  It becomes a vector"
   ]
  },
  {
   "cell_type": "code",
   "execution_count": 16,
   "metadata": {},
   "outputs": [
    {
     "data": {
      "text/html": [
       "<ol class=list-inline>\n",
       "\t<li>1</li>\n",
       "\t<li>2</li>\n",
       "\t<li>3</li>\n",
       "\t<li>4</li>\n",
       "</ol>\n"
      ],
      "text/latex": [
       "\\begin{enumerate*}\n",
       "\\item 1\n",
       "\\item 2\n",
       "\\item 3\n",
       "\\item 4\n",
       "\\end{enumerate*}\n"
      ],
      "text/markdown": [
       "1. 1\n",
       "2. 2\n",
       "3. 3\n",
       "4. 4\n",
       "\n",
       "\n"
      ],
      "text/plain": [
       "[1] 1 2 3 4"
      ]
     },
     "metadata": {},
     "output_type": "display_data"
    }
   ],
   "source": [
    "z[,1]"
   ]
  },
  {
   "cell_type": "markdown",
   "metadata": {},
   "source": [
    "### Not to lose the matrix status"
   ]
  },
  {
   "cell_type": "code",
   "execution_count": 17,
   "metadata": {},
   "outputs": [
    {
     "data": {
      "text/html": [
       "<table>\n",
       "<tbody>\n",
       "\t<tr><td>1</td></tr>\n",
       "\t<tr><td>2</td></tr>\n",
       "\t<tr><td>3</td></tr>\n",
       "\t<tr><td>4</td></tr>\n",
       "</tbody>\n",
       "</table>\n"
      ],
      "text/latex": [
       "\\begin{tabular}{l}\n",
       "\t 1\\\\\n",
       "\t 2\\\\\n",
       "\t 3\\\\\n",
       "\t 4\\\\\n",
       "\\end{tabular}\n"
      ],
      "text/markdown": [
       "\n",
       "| 1 | \n",
       "| 2 | \n",
       "| 3 | \n",
       "| 4 | \n",
       "\n",
       "\n"
      ],
      "text/plain": [
       "     [,1]\n",
       "[1,] 1   \n",
       "[2,] 2   \n",
       "[3,] 3   \n",
       "[4,] 4   "
      ]
     },
     "metadata": {},
     "output_type": "display_data"
    }
   ],
   "source": [
    "z[,1, drop=FALSE]"
   ]
  },
  {
   "cell_type": "markdown",
   "metadata": {},
   "source": [
    "### Query the dimension of a matrix"
   ]
  },
  {
   "cell_type": "code",
   "execution_count": 18,
   "metadata": {},
   "outputs": [
    {
     "data": {
      "text/html": [
       "<ol class=list-inline>\n",
       "\t<li>4</li>\n",
       "\t<li>3</li>\n",
       "</ol>\n"
      ],
      "text/latex": [
       "\\begin{enumerate*}\n",
       "\\item 4\n",
       "\\item 3\n",
       "\\end{enumerate*}\n"
      ],
      "text/markdown": [
       "1. 4\n",
       "2. 3\n",
       "\n",
       "\n"
      ],
      "text/plain": [
       "[1] 4 3"
      ]
     },
     "metadata": {},
     "output_type": "display_data"
    }
   ],
   "source": [
    "dim(z)"
   ]
  },
  {
   "cell_type": "markdown",
   "metadata": {},
   "source": [
    "### Working directory ls"
   ]
  },
  {
   "cell_type": "code",
   "execution_count": 19,
   "metadata": {},
   "outputs": [
    {
     "data": {
      "text/html": [
       "<ol class=list-inline>\n",
       "\t<li>'x'</li>\n",
       "\t<li>'y'</li>\n",
       "\t<li>'z'</li>\n",
       "</ol>\n"
      ],
      "text/latex": [
       "\\begin{enumerate*}\n",
       "\\item 'x'\n",
       "\\item 'y'\n",
       "\\item 'z'\n",
       "\\end{enumerate*}\n"
      ],
      "text/markdown": [
       "1. 'x'\n",
       "2. 'y'\n",
       "3. 'z'\n",
       "\n",
       "\n"
      ],
      "text/plain": [
       "[1] \"x\" \"y\" \"z\""
      ]
     },
     "metadata": {},
     "output_type": "display_data"
    }
   ],
   "source": [
    "ls()"
   ]
  },
  {
   "cell_type": "markdown",
   "metadata": {},
   "source": [
    "### Removing y"
   ]
  },
  {
   "cell_type": "code",
   "execution_count": 20,
   "metadata": {},
   "outputs": [
    {
     "data": {
      "text/html": [
       "<ol class=list-inline>\n",
       "\t<li>'x'</li>\n",
       "\t<li>'z'</li>\n",
       "</ol>\n"
      ],
      "text/latex": [
       "\\begin{enumerate*}\n",
       "\\item 'x'\n",
       "\\item 'z'\n",
       "\\end{enumerate*}\n"
      ],
      "text/markdown": [
       "1. 'x'\n",
       "2. 'z'\n",
       "\n",
       "\n"
      ],
      "text/plain": [
       "[1] \"x\" \"z\""
      ]
     },
     "metadata": {},
     "output_type": "display_data"
    }
   ],
   "source": [
    "rm(y)\n",
    "ls()"
   ]
  },
  {
   "cell_type": "markdown",
   "metadata": {},
   "source": [
    "### Generating Data"
   ]
  },
  {
   "cell_type": "markdown",
   "metadata": {},
   "source": [
    "#### Random Uniform"
   ]
  },
  {
   "cell_type": "code",
   "execution_count": 21,
   "metadata": {},
   "outputs": [
    {
     "data": {
      "text/html": [
       "<ol class=list-inline>\n",
       "\t<li>0.770434377947822</li>\n",
       "\t<li>0.568859229795635</li>\n",
       "\t<li>0.845721147721633</li>\n",
       "\t<li>0.574145690305158</li>\n",
       "\t<li>0.164088815683499</li>\n",
       "\t<li>0.170984633732587</li>\n",
       "\t<li>0.107188777765259</li>\n",
       "\t<li>0.306390541838482</li>\n",
       "\t<li>0.611797137651592</li>\n",
       "\t<li>0.00635565351694822</li>\n",
       "\t<li>0.598806430120021</li>\n",
       "\t<li>0.937533226097003</li>\n",
       "\t<li>0.279055058490485</li>\n",
       "\t<li>0.446959970053285</li>\n",
       "\t<li>0.406424968736246</li>\n",
       "\t<li>0.324657940771431</li>\n",
       "\t<li>0.289266800507903</li>\n",
       "\t<li>0.229981277370825</li>\n",
       "\t<li>0.858853496145457</li>\n",
       "\t<li>0.712464546784759</li>\n",
       "\t<li>0.233195564476773</li>\n",
       "\t<li>0.979664740851149</li>\n",
       "\t<li>0.996738663641736</li>\n",
       "\t<li>0.340653643943369</li>\n",
       "\t<li>0.748269152827561</li>\n",
       "\t<li>0.112512530526146</li>\n",
       "\t<li>0.643552063731477</li>\n",
       "\t<li>0.769987347535789</li>\n",
       "\t<li>0.109001429984346</li>\n",
       "\t<li>0.120209433836862</li>\n",
       "\t<li>0.469728185562417</li>\n",
       "\t<li>0.794549389509484</li>\n",
       "\t<li>0.143605487188324</li>\n",
       "\t<li>0.949560630600899</li>\n",
       "\t<li>0.730837185867131</li>\n",
       "\t<li>0.0652558871079236</li>\n",
       "\t<li>0.177272243890911</li>\n",
       "\t<li>0.118247100384906</li>\n",
       "\t<li>0.777853032341227</li>\n",
       "\t<li>0.539773942669854</li>\n",
       "\t<li>0.550798687152565</li>\n",
       "\t<li>0.963414701633155</li>\n",
       "\t<li>0.39318162156269</li>\n",
       "\t<li>0.0952241441700608</li>\n",
       "\t<li>0.408327975776047</li>\n",
       "\t<li>0.26490253675729</li>\n",
       "\t<li>0.453733719652519</li>\n",
       "\t<li>0.5013126374688</li>\n",
       "\t<li>0.050668046111241</li>\n",
       "\t<li>0.341391953639686</li>\n",
       "</ol>\n"
      ],
      "text/latex": [
       "\\begin{enumerate*}\n",
       "\\item 0.770434377947822\n",
       "\\item 0.568859229795635\n",
       "\\item 0.845721147721633\n",
       "\\item 0.574145690305158\n",
       "\\item 0.164088815683499\n",
       "\\item 0.170984633732587\n",
       "\\item 0.107188777765259\n",
       "\\item 0.306390541838482\n",
       "\\item 0.611797137651592\n",
       "\\item 0.00635565351694822\n",
       "\\item 0.598806430120021\n",
       "\\item 0.937533226097003\n",
       "\\item 0.279055058490485\n",
       "\\item 0.446959970053285\n",
       "\\item 0.406424968736246\n",
       "\\item 0.324657940771431\n",
       "\\item 0.289266800507903\n",
       "\\item 0.229981277370825\n",
       "\\item 0.858853496145457\n",
       "\\item 0.712464546784759\n",
       "\\item 0.233195564476773\n",
       "\\item 0.979664740851149\n",
       "\\item 0.996738663641736\n",
       "\\item 0.340653643943369\n",
       "\\item 0.748269152827561\n",
       "\\item 0.112512530526146\n",
       "\\item 0.643552063731477\n",
       "\\item 0.769987347535789\n",
       "\\item 0.109001429984346\n",
       "\\item 0.120209433836862\n",
       "\\item 0.469728185562417\n",
       "\\item 0.794549389509484\n",
       "\\item 0.143605487188324\n",
       "\\item 0.949560630600899\n",
       "\\item 0.730837185867131\n",
       "\\item 0.0652558871079236\n",
       "\\item 0.177272243890911\n",
       "\\item 0.118247100384906\n",
       "\\item 0.777853032341227\n",
       "\\item 0.539773942669854\n",
       "\\item 0.550798687152565\n",
       "\\item 0.963414701633155\n",
       "\\item 0.39318162156269\n",
       "\\item 0.0952241441700608\n",
       "\\item 0.408327975776047\n",
       "\\item 0.26490253675729\n",
       "\\item 0.453733719652519\n",
       "\\item 0.5013126374688\n",
       "\\item 0.050668046111241\n",
       "\\item 0.341391953639686\n",
       "\\end{enumerate*}\n"
      ],
      "text/markdown": [
       "1. 0.770434377947822\n",
       "2. 0.568859229795635\n",
       "3. 0.845721147721633\n",
       "4. 0.574145690305158\n",
       "5. 0.164088815683499\n",
       "6. 0.170984633732587\n",
       "7. 0.107188777765259\n",
       "8. 0.306390541838482\n",
       "9. 0.611797137651592\n",
       "10. 0.00635565351694822\n",
       "11. 0.598806430120021\n",
       "12. 0.937533226097003\n",
       "13. 0.279055058490485\n",
       "14. 0.446959970053285\n",
       "15. 0.406424968736246\n",
       "16. 0.324657940771431\n",
       "17. 0.289266800507903\n",
       "18. 0.229981277370825\n",
       "19. 0.858853496145457\n",
       "20. 0.712464546784759\n",
       "21. 0.233195564476773\n",
       "22. 0.979664740851149\n",
       "23. 0.996738663641736\n",
       "24. 0.340653643943369\n",
       "25. 0.748269152827561\n",
       "26. 0.112512530526146\n",
       "27. 0.643552063731477\n",
       "28. 0.769987347535789\n",
       "29. 0.109001429984346\n",
       "30. 0.120209433836862\n",
       "31. 0.469728185562417\n",
       "32. 0.794549389509484\n",
       "33. 0.143605487188324\n",
       "34. 0.949560630600899\n",
       "35. 0.730837185867131\n",
       "36. 0.0652558871079236\n",
       "37. 0.177272243890911\n",
       "38. 0.118247100384906\n",
       "39. 0.777853032341227\n",
       "40. 0.539773942669854\n",
       "41. 0.550798687152565\n",
       "42. 0.963414701633155\n",
       "43. 0.39318162156269\n",
       "44. 0.0952241441700608\n",
       "45. 0.408327975776047\n",
       "46. 0.26490253675729\n",
       "47. 0.453733719652519\n",
       "48. 0.5013126374688\n",
       "49. 0.050668046111241\n",
       "50. 0.341391953639686\n",
       "\n",
       "\n"
      ],
      "text/plain": [
       " [1] 0.770434378 0.568859230 0.845721148 0.574145690 0.164088816 0.170984634\n",
       " [7] 0.107188778 0.306390542 0.611797138 0.006355654 0.598806430 0.937533226\n",
       "[13] 0.279055058 0.446959970 0.406424969 0.324657941 0.289266801 0.229981277\n",
       "[19] 0.858853496 0.712464547 0.233195564 0.979664741 0.996738664 0.340653644\n",
       "[25] 0.748269153 0.112512531 0.643552064 0.769987348 0.109001430 0.120209434\n",
       "[31] 0.469728186 0.794549390 0.143605487 0.949560631 0.730837186 0.065255887\n",
       "[37] 0.177272244 0.118247100 0.777853032 0.539773943 0.550798687 0.963414702\n",
       "[43] 0.393181622 0.095224144 0.408327976 0.264902537 0.453733720 0.501312637\n",
       "[49] 0.050668046 0.341391954"
      ]
     },
     "metadata": {},
     "output_type": "display_data"
    }
   ],
   "source": [
    "x = runif(50)\n",
    "x"
   ]
  },
  {
   "cell_type": "markdown",
   "metadata": {},
   "source": [
    "#### Random Normal/Gaussian"
   ]
  },
  {
   "cell_type": "code",
   "execution_count": 22,
   "metadata": {},
   "outputs": [
    {
     "data": {
      "text/html": [
       "<ol class=list-inline>\n",
       "\t<li>-0.269171349951247</li>\n",
       "\t<li>1.3307369565471</li>\n",
       "\t<li>0.0637942570536084</li>\n",
       "\t<li>-0.391553203068397</li>\n",
       "\t<li>-0.338795028489852</li>\n",
       "\t<li>0.397583193717383</li>\n",
       "\t<li>-0.941917576814194</li>\n",
       "\t<li>0.552781016812969</li>\n",
       "\t<li>-0.60958086460852</li>\n",
       "\t<li>-0.533250375817022</li>\n",
       "\t<li>-0.395110558659264</li>\n",
       "\t<li>-1.06369639868256</li>\n",
       "\t<li>-1.44429130232774</li>\n",
       "\t<li>1.33543370631389</li>\n",
       "\t<li>-0.383297012866848</li>\n",
       "\t<li>0.75021133077493</li>\n",
       "\t<li>0.702285910608235</li>\n",
       "\t<li>1.37585700235185</li>\n",
       "\t<li>-0.706728472773261</li>\n",
       "\t<li>-0.697653906394214</li>\n",
       "\t<li>0.100802627268982</li>\n",
       "\t<li>-0.44644894706569</li>\n",
       "\t<li>-0.920166002424661</li>\n",
       "\t<li>1.19503178845382</li>\n",
       "\t<li>0.460123920890714</li>\n",
       "\t<li>-0.233622214363569</li>\n",
       "\t<li>0.163695849463707</li>\n",
       "\t<li>-0.0669335838180008</li>\n",
       "\t<li>0.768535590916286</li>\n",
       "\t<li>-0.895360664777479</li>\n",
       "\t<li>-2.36433115451766</li>\n",
       "\t<li>-0.143111957245515</li>\n",
       "\t<li>0.366821030892504</li>\n",
       "\t<li>-0.447812832993088</li>\n",
       "\t<li>0.941321624891807</li>\n",
       "\t<li>-0.273977566229811</li>\n",
       "\t<li>0.0536942109411307</li>\n",
       "\t<li>1.40437942975951</li>\n",
       "\t<li>-0.678842038755125</li>\n",
       "\t<li>-0.92595529934899</li>\n",
       "\t<li>-1.52841105183104</li>\n",
       "\t<li>0.647501893729962</li>\n",
       "\t<li>-0.0129333210714566</li>\n",
       "\t<li>-0.28123448507234</li>\n",
       "\t<li>-0.53149632628834</li>\n",
       "\t<li>-0.90402387297322</li>\n",
       "\t<li>0.224627954018257</li>\n",
       "\t<li>-0.552688427309732</li>\n",
       "\t<li>-0.815330541078576</li>\n",
       "\t<li>-1.07643106944897</li>\n",
       "</ol>\n"
      ],
      "text/latex": [
       "\\begin{enumerate*}\n",
       "\\item -0.269171349951247\n",
       "\\item 1.3307369565471\n",
       "\\item 0.0637942570536084\n",
       "\\item -0.391553203068397\n",
       "\\item -0.338795028489852\n",
       "\\item 0.397583193717383\n",
       "\\item -0.941917576814194\n",
       "\\item 0.552781016812969\n",
       "\\item -0.60958086460852\n",
       "\\item -0.533250375817022\n",
       "\\item -0.395110558659264\n",
       "\\item -1.06369639868256\n",
       "\\item -1.44429130232774\n",
       "\\item 1.33543370631389\n",
       "\\item -0.383297012866848\n",
       "\\item 0.75021133077493\n",
       "\\item 0.702285910608235\n",
       "\\item 1.37585700235185\n",
       "\\item -0.706728472773261\n",
       "\\item -0.697653906394214\n",
       "\\item 0.100802627268982\n",
       "\\item -0.44644894706569\n",
       "\\item -0.920166002424661\n",
       "\\item 1.19503178845382\n",
       "\\item 0.460123920890714\n",
       "\\item -0.233622214363569\n",
       "\\item 0.163695849463707\n",
       "\\item -0.0669335838180008\n",
       "\\item 0.768535590916286\n",
       "\\item -0.895360664777479\n",
       "\\item -2.36433115451766\n",
       "\\item -0.143111957245515\n",
       "\\item 0.366821030892504\n",
       "\\item -0.447812832993088\n",
       "\\item 0.941321624891807\n",
       "\\item -0.273977566229811\n",
       "\\item 0.0536942109411307\n",
       "\\item 1.40437942975951\n",
       "\\item -0.678842038755125\n",
       "\\item -0.92595529934899\n",
       "\\item -1.52841105183104\n",
       "\\item 0.647501893729962\n",
       "\\item -0.0129333210714566\n",
       "\\item -0.28123448507234\n",
       "\\item -0.53149632628834\n",
       "\\item -0.90402387297322\n",
       "\\item 0.224627954018257\n",
       "\\item -0.552688427309732\n",
       "\\item -0.815330541078576\n",
       "\\item -1.07643106944897\n",
       "\\end{enumerate*}\n"
      ],
      "text/markdown": [
       "1. -0.269171349951247\n",
       "2. 1.3307369565471\n",
       "3. 0.0637942570536084\n",
       "4. -0.391553203068397\n",
       "5. -0.338795028489852\n",
       "6. 0.397583193717383\n",
       "7. -0.941917576814194\n",
       "8. 0.552781016812969\n",
       "9. -0.60958086460852\n",
       "10. -0.533250375817022\n",
       "11. -0.395110558659264\n",
       "12. -1.06369639868256\n",
       "13. -1.44429130232774\n",
       "14. 1.33543370631389\n",
       "15. -0.383297012866848\n",
       "16. 0.75021133077493\n",
       "17. 0.702285910608235\n",
       "18. 1.37585700235185\n",
       "19. -0.706728472773261\n",
       "20. -0.697653906394214\n",
       "21. 0.100802627268982\n",
       "22. -0.44644894706569\n",
       "23. -0.920166002424661\n",
       "24. 1.19503178845382\n",
       "25. 0.460123920890714\n",
       "26. -0.233622214363569\n",
       "27. 0.163695849463707\n",
       "28. -0.0669335838180008\n",
       "29. 0.768535590916286\n",
       "30. -0.895360664777479\n",
       "31. -2.36433115451766\n",
       "32. -0.143111957245515\n",
       "33. 0.366821030892504\n",
       "34. -0.447812832993088\n",
       "35. 0.941321624891807\n",
       "36. -0.273977566229811\n",
       "37. 0.0536942109411307\n",
       "38. 1.40437942975951\n",
       "39. -0.678842038755125\n",
       "40. -0.92595529934899\n",
       "41. -1.52841105183104\n",
       "42. 0.647501893729962\n",
       "43. -0.0129333210714566\n",
       "44. -0.28123448507234\n",
       "45. -0.53149632628834\n",
       "46. -0.90402387297322\n",
       "47. 0.224627954018257\n",
       "48. -0.552688427309732\n",
       "49. -0.815330541078576\n",
       "50. -1.07643106944897\n",
       "\n",
       "\n"
      ],
      "text/plain": [
       " [1] -0.26917135  1.33073696  0.06379426 -0.39155320 -0.33879503  0.39758319\n",
       " [7] -0.94191758  0.55278102 -0.60958086 -0.53325038 -0.39511056 -1.06369640\n",
       "[13] -1.44429130  1.33543371 -0.38329701  0.75021133  0.70228591  1.37585700\n",
       "[19] -0.70672847 -0.69765391  0.10080263 -0.44644895 -0.92016600  1.19503179\n",
       "[25]  0.46012392 -0.23362221  0.16369585 -0.06693358  0.76853559 -0.89536066\n",
       "[31] -2.36433115 -0.14311196  0.36682103 -0.44781283  0.94132162 -0.27397757\n",
       "[37]  0.05369421  1.40437943 -0.67884204 -0.92595530 -1.52841105  0.64750189\n",
       "[43] -0.01293332 -0.28123449 -0.53149633 -0.90402387  0.22462795 -0.55268843\n",
       "[49] -0.81533054 -1.07643107"
      ]
     },
     "metadata": {},
     "output_type": "display_data"
    }
   ],
   "source": [
    "y = rnorm(50)\n",
    "y"
   ]
  },
  {
   "cell_type": "markdown",
   "metadata": {},
   "source": [
    "### Plot x,y"
   ]
  },
  {
   "cell_type": "code",
   "execution_count": 23,
   "metadata": {},
   "outputs": [
    {
     "data": {
      "image/png": "[encoded data removed]",
      "text/plain": [
       "plot without title"
      ]
     },
     "metadata": {},
     "output_type": "display_data"
    }
   ],
   "source": [
    "plot(x,y)"
   ]
  },
  {
   "cell_type": "markdown",
   "metadata": {},
   "source": [
    "### Adding labels, plot character and color"
   ]
  },
  {
   "cell_type": "code",
   "execution_count": 24,
   "metadata": {},
   "outputs": [
    {
     "data": {
      "image/png": "[encoded data removed]",
      "text/plain": [
       "plot without title"
      ]
     },
     "metadata": {},
     "output_type": "display_data"
    }
   ],
   "source": [
    "plot(x,y,xlab=\"random uniform\", ylab=\"random normal\", pch=\"X\", col=\"black\")"
   ]
  },
  {
   "cell_type": "markdown",
   "metadata": {},
   "source": [
    "### Create a layout of 2 rows by 1 column for plots\n",
    "-  First row is scatter plot\n",
    "-  Second row is histogram "
   ]
  },
  {
   "cell_type": "code",
   "execution_count": 25,
   "metadata": {
    "collapsed": true
   },
   "outputs": [],
   "source": [
    "par(mfrow = c(2, 1))"
   ]
  },
  {
   "cell_type": "code",
   "execution_count": 26,
   "metadata": {},
   "outputs": [
    {
     "data": {
      "image/png": "[encoded data removed]",
      "text/plain": [
       "plot without title"
      ]
     },
     "metadata": {},
     "output_type": "display_data"
    },
    {
     "data": {
      "image/png": "[encoded data removed]",
      "text/plain": [
       "Plot with title “Histogram of y”"
      ]
     },
     "metadata": {},
     "output_type": "display_data"
    }
   ],
   "source": [
    "plot(x,y)\n",
    "hist(y)"
   ]
  },
  {
   "cell_type": "markdown",
   "metadata": {},
   "source": [
    "### Resetting the par"
   ]
  },
  {
   "cell_type": "code",
   "execution_count": 27,
   "metadata": {
    "collapsed": true
   },
   "outputs": [],
   "source": [
    "par(mfrow=c(1,1))"
   ]
  },
  {
   "cell_type": "markdown",
   "metadata": {
    "collapsed": true
   },
   "source": [
    "### Reading a csv file"
   ]
  },
  {
   "cell_type": "code",
   "execution_count": 28,
   "metadata": {
    "collapsed": true
   },
   "outputs": [],
   "source": [
    "Auto = read.csv(\"data/Auto.csv\")"
   ]
  },
  {
   "cell_type": "markdown",
   "metadata": {},
   "source": [
    "## Displaying the names of the columns"
   ]
  },
  {
   "cell_type": "code",
   "execution_count": 29,
   "metadata": {},
   "outputs": [
    {
     "data": {
      "text/html": [
       "<ol class=list-inline>\n",
       "\t<li>'mpg'</li>\n",
       "\t<li>'cylinders'</li>\n",
       "\t<li>'displacement'</li>\n",
       "\t<li>'horsepower'</li>\n",
       "\t<li>'weight'</li>\n",
       "\t<li>'acceleration'</li>\n",
       "\t<li>'year'</li>\n",
       "\t<li>'origin'</li>\n",
       "\t<li>'name'</li>\n",
       "</ol>\n"
      ],
      "text/latex": [
       "\\begin{enumerate*}\n",
       "\\item 'mpg'\n",
       "\\item 'cylinders'\n",
       "\\item 'displacement'\n",
       "\\item 'horsepower'\n",
       "\\item 'weight'\n",
       "\\item 'acceleration'\n",
       "\\item 'year'\n",
       "\\item 'origin'\n",
       "\\item 'name'\n",
       "\\end{enumerate*}\n"
      ],
      "text/markdown": [
       "1. 'mpg'\n",
       "2. 'cylinders'\n",
       "3. 'displacement'\n",
       "4. 'horsepower'\n",
       "5. 'weight'\n",
       "6. 'acceleration'\n",
       "7. 'year'\n",
       "8. 'origin'\n",
       "9. 'name'\n",
       "\n",
       "\n"
      ],
      "text/plain": [
       "[1] \"mpg\"          \"cylinders\"    \"displacement\" \"horsepower\"   \"weight\"      \n",
       "[6] \"acceleration\" \"year\"         \"origin\"       \"name\"        "
      ]
     },
     "metadata": {},
     "output_type": "display_data"
    }
   ],
   "source": [
    "names(Auto)"
   ]
  },
  {
   "cell_type": "markdown",
   "metadata": {},
   "source": [
    "### Dimension"
   ]
  },
  {
   "cell_type": "code",
   "execution_count": 30,
   "metadata": {},
   "outputs": [
    {
     "data": {
      "text/html": [
       "<ol class=list-inline>\n",
       "\t<li>397</li>\n",
       "\t<li>9</li>\n",
       "</ol>\n"
      ],
      "text/latex": [
       "\\begin{enumerate*}\n",
       "\\item 397\n",
       "\\item 9\n",
       "\\end{enumerate*}\n"
      ],
      "text/markdown": [
       "1. 397\n",
       "2. 9\n",
       "\n",
       "\n"
      ],
      "text/plain": [
       "[1] 397   9"
      ]
     },
     "metadata": {},
     "output_type": "display_data"
    }
   ],
   "source": [
    "dim(Auto)"
   ]
  },
  {
   "cell_type": "markdown",
   "metadata": {},
   "source": [
    "### Type of the auto variable"
   ]
  },
  {
   "cell_type": "code",
   "execution_count": 31,
   "metadata": {},
   "outputs": [
    {
     "data": {
      "text/html": [
       "'data.frame'"
      ],
      "text/latex": [
       "'data.frame'"
      ],
      "text/markdown": [
       "'data.frame'"
      ],
      "text/plain": [
       "[1] \"data.frame\""
      ]
     },
     "metadata": {},
     "output_type": "display_data"
    }
   ],
   "source": [
    "class(Auto)"
   ]
  },
  {
   "cell_type": "markdown",
   "metadata": {},
   "source": [
    "### Summary of Auto"
   ]
  },
  {
   "cell_type": "code",
   "execution_count": 32,
   "metadata": {},
   "outputs": [
    {
     "data": {
      "text/plain": [
       "      mpg          cylinders      displacement     horsepower      weight    \n",
       " Min.   : 9.00   Min.   :3.000   Min.   : 68.0   150    : 22   Min.   :1613  \n",
       " 1st Qu.:17.50   1st Qu.:4.000   1st Qu.:104.0   90     : 20   1st Qu.:2223  \n",
       " Median :23.00   Median :4.000   Median :146.0   88     : 19   Median :2800  \n",
       " Mean   :23.52   Mean   :5.458   Mean   :193.5   110    : 18   Mean   :2970  \n",
       " 3rd Qu.:29.00   3rd Qu.:8.000   3rd Qu.:262.0   100    : 17   3rd Qu.:3609  \n",
       " Max.   :46.60   Max.   :8.000   Max.   :455.0   75     : 14   Max.   :5140  \n",
       "                                                 (Other):287                 \n",
       "  acceleration        year           origin                  name    \n",
       " Min.   : 8.00   Min.   :70.00   Min.   :1.000   ford pinto    :  6  \n",
       " 1st Qu.:13.80   1st Qu.:73.00   1st Qu.:1.000   amc matador   :  5  \n",
       " Median :15.50   Median :76.00   Median :1.000   ford maverick :  5  \n",
       " Mean   :15.56   Mean   :75.99   Mean   :1.574   toyota corolla:  5  \n",
       " 3rd Qu.:17.10   3rd Qu.:79.00   3rd Qu.:2.000   amc gremlin   :  4  \n",
       " Max.   :24.80   Max.   :82.00   Max.   :3.000   amc hornet    :  4  \n",
       "                                                 (Other)       :368  "
      ]
     },
     "metadata": {},
     "output_type": "display_data"
    }
   ],
   "source": [
    " summary(Auto)"
   ]
  },
  {
   "cell_type": "markdown",
   "metadata": {},
   "source": [
    "### Plotting columns cylinders and mpg"
   ]
  },
  {
   "cell_type": "code",
   "execution_count": 33,
   "metadata": {},
   "outputs": [
    {
     "data": {
      "image/png": "[encoded data removed]",
      "text/plain": [
       "plot without title"
      ]
     },
     "metadata": {},
     "output_type": "display_data"
    }
   ],
   "source": [
    "plot(Auto$cylinders, Auto$mpg)"
   ]
  },
  {
   "cell_type": "code",
   "execution_count": 34,
   "metadata": {},
   "outputs": [
    {
     "data": {
      "image/png": "[encoded data removed]",
      "text/plain": [
       "plot without title"
      ]
     },
     "metadata": {},
     "output_type": "display_data"
    }
   ],
   "source": [
    "plot(Auto$cyl, Auto$mpg)"
   ]
  },
  {
   "cell_type": "markdown",
   "metadata": {},
   "source": [
    "### Attaching so column names can be used without Auto$cylinders\n",
    "-  Attaching objects to the R search path"
   ]
  },
  {
   "cell_type": "code",
   "execution_count": 35,
   "metadata": {
    "collapsed": true
   },
   "outputs": [],
   "source": [
    "attach(Auto)"
   ]
  },
  {
   "cell_type": "markdown",
   "metadata": {},
   "source": [
    "### List of attached packages and objects"
   ]
  },
  {
   "cell_type": "code",
   "execution_count": 36,
   "metadata": {},
   "outputs": [
    {
     "data": {
      "text/html": [
       "<ol class=list-inline>\n",
       "\t<li>'.GlobalEnv'</li>\n",
       "\t<li>'Auto'</li>\n",
       "\t<li>'jupyter:irkernel'</li>\n",
       "\t<li>'package:stats'</li>\n",
       "\t<li>'package:graphics'</li>\n",
       "\t<li>'package:grDevices'</li>\n",
       "\t<li>'package:utils'</li>\n",
       "\t<li>'package:datasets'</li>\n",
       "\t<li>'package:methods'</li>\n",
       "\t<li>'Autoloads'</li>\n",
       "\t<li>'package:base'</li>\n",
       "</ol>\n"
      ],
      "text/latex": [
       "\\begin{enumerate*}\n",
       "\\item '.GlobalEnv'\n",
       "\\item 'Auto'\n",
       "\\item 'jupyter:irkernel'\n",
       "\\item 'package:stats'\n",
       "\\item 'package:graphics'\n",
       "\\item 'package:grDevices'\n",
       "\\item 'package:utils'\n",
       "\\item 'package:datasets'\n",
       "\\item 'package:methods'\n",
       "\\item 'Autoloads'\n",
       "\\item 'package:base'\n",
       "\\end{enumerate*}\n"
      ],
      "text/markdown": [
       "1. '.GlobalEnv'\n",
       "2. 'Auto'\n",
       "3. 'jupyter:irkernel'\n",
       "4. 'package:stats'\n",
       "5. 'package:graphics'\n",
       "6. 'package:grDevices'\n",
       "7. 'package:utils'\n",
       "8. 'package:datasets'\n",
       "9. 'package:methods'\n",
       "10. 'Autoloads'\n",
       "11. 'package:base'\n",
       "\n",
       "\n"
      ],
      "text/plain": [
       " [1] \".GlobalEnv\"        \"Auto\"              \"jupyter:irkernel\" \n",
       " [4] \"package:stats\"     \"package:graphics\"  \"package:grDevices\"\n",
       " [7] \"package:utils\"     \"package:datasets\"  \"package:methods\"  \n",
       "[10] \"Autoloads\"         \"package:base\"     "
      ]
     },
     "metadata": {},
     "output_type": "display_data"
    }
   ],
   "source": [
    "search()"
   ]
  },
  {
   "cell_type": "markdown",
   "metadata": {},
   "source": [
    "### Plotting box plots"
   ]
  },
  {
   "cell_type": "code",
   "execution_count": 38,
   "metadata": {},
   "outputs": [
    {
     "data": {
      "image/png": "[encoded data removed]",
      "text/plain": [
       "plot without title"
      ]
     },
     "metadata": {},
     "output_type": "display_data"
    }
   ],
   "source": [
    "plot(cylinders, mpg)\n",
    "cylinders=as.factor(cylinders)"
   ]
  },
  {
   "cell_type": "code",
   "execution_count": null,
   "metadata": {
    "collapsed": true
   },
   "outputs": [],
   "source": []
  }
 ],
 "metadata": {
  "kernelspec": {
   "display_name": "R",
   "language": "R",
   "name": "ir"
  },
  "language_info": {
   "codemirror_mode": "r",
   "file_extension": ".r",
   "mimetype": "text/x-r-source",
   "name": "R",
   "pygments_lexer": "r",
   "version": "3.2.3"
  }
 },
 "nbformat": 4,
 "nbformat_minor": 2
}
